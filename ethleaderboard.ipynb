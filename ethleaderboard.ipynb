{
 "cells": [
  {
   "cell_type": "code",
   "execution_count": 2,
   "id": "9057030e",
   "metadata": {},
   "outputs": [],
   "source": [
    "import numpy as np \n",
    "import pandas as pd\n",
    "\n",
    "from webdriver_manager.chrome import ChromeDriverManager\n",
    "import selenium \n",
    "from selenium import webdriver\n",
    "from selenium import webdriver as wb \n",
    "import time\n",
    "from selenium.webdriver.common.keys import Keys"
   ]
  },
  {
   "cell_type": "code",
   "execution_count": 15,
   "id": "676c4d7f",
   "metadata": {},
   "outputs": [
    {
     "name": "stderr",
     "output_type": "stream",
     "text": [
      "\n",
      "\n",
      "====== WebDriver manager ======\n",
      "Current google-chrome version is 97.0.4692\n",
      "Get LATEST chromedriver version for 97.0.4692 google-chrome\n",
      "Driver [/Users/djordjedubovina/.wdm/drivers/chromedriver/mac64/97.0.4692.71/chromedriver] found in cache\n",
      "/var/folders/b4/gg_cwrwj7bl76hr117vr3l9h0000gn/T/ipykernel_11271/543416372.py:3: DeprecationWarning: executable_path has been deprecated, please pass in a Service object\n",
      "  driver = webdriver.Chrome(ChromeDriverManager().install())\n",
      "/var/folders/b4/gg_cwrwj7bl76hr117vr3l9h0000gn/T/ipykernel_11271/543416372.py:6: DeprecationWarning: find_elements_by_* commands are deprecated. Please use find_elements() instead\n",
      "  elements = driver.find_elements_by_xpath('//*[@id=\"__next\"]/div/main/div[2]/div/table/tbody/tr/td[2]/a/span[2]')\n"
     ]
    }
   ],
   "source": [
    "import selenium \n",
    "from selenium import webdriver as wb \n",
    "driver = webdriver.Chrome(ChromeDriverManager().install())\n",
    "url = 'https://ethleaderboard.xyz/'\n",
    "driver.get(url)\n",
    "elements = driver.find_elements_by_xpath('//*[@id=\"__next\"]/div/main/div[2]/div/table/tbody/tr/td[2]/a/span[2]')"
   ]
  },
  {
   "cell_type": "code",
   "execution_count": 17,
   "id": "b8ea5015",
   "metadata": {},
   "outputs": [],
   "source": [
    "alladdress=[]\n",
    "for i in range(len(elements)):\n",
    "    address = elements[i].text\n",
    "    temp = {'address' : address}\n",
    "    alladdress.append(temp)"
   ]
  },
  {
   "cell_type": "code",
   "execution_count": 22,
   "id": "c9b9b7b8",
   "metadata": {},
   "outputs": [],
   "source": [
    "data = pd.DataFrame(alladdress)\n",
    "data.to_csv('/Users/djordjedubovina/Desktop/materijali/ethleaderboard.csv')"
   ]
  },
  {
   "cell_type": "code",
   "execution_count": null,
   "id": "8a461f1d",
   "metadata": {},
   "outputs": [],
   "source": []
  }
 ],
 "metadata": {
  "kernelspec": {
   "display_name": "Python 3 (ipykernel)",
   "language": "python",
   "name": "python3"
  },
  "language_info": {
   "codemirror_mode": {
    "name": "ipython",
    "version": 3
   },
   "file_extension": ".py",
   "mimetype": "text/x-python",
   "name": "python",
   "nbconvert_exporter": "python",
   "pygments_lexer": "ipython3",
   "version": "3.9.7"
  }
 },
 "nbformat": 4,
 "nbformat_minor": 5
}
